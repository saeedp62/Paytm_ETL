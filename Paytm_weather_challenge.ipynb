{
 "cells": [
  {
   "cell_type": "code",
   "execution_count": 1,
   "metadata": {},
   "outputs": [],
   "source": [
    "import pyspark"
   ]
  },
  {
   "cell_type": "code",
   "execution_count": 3,
   "metadata": {},
   "outputs": [],
   "source": [
    "from pyspark.sql import SparkSession\n",
    "spark = SparkSession.builder \\\n",
    "         .master(\"local[4]\") \\\n",
    "         .config(\"spark.executor.memory\", \"2g\") \\\n",
    "         .config(\"spark.driver.memory\", \"8g\") \\\n",
    "         .config(\"spark.memory.offHeap.enabled\",True) \\\n",
    "         .config(\"spark.memory.offHeap.size\",\"2g\") \\\n",
    "         .config(\"spark.python.worker.memory\",\"1g\") \\\n",
    "         .appName('Paytm').getOrCreate()"
   ]
  },
  {
   "cell_type": "code",
   "execution_count": 132,
   "metadata": {},
   "outputs": [],
   "source": [
    "from pyspark.sql.functions import *\n",
    "import pandas as pd\n",
    "import seaborn as sns\n",
    "from pyspark.sql.functions import col,sum\n",
    "import numpy as np\n",
    "from pyspark.sql.functions import when\n",
    "from pyspark.sql.functions import pandas_udf\n",
    "from pyspark.sql.functions import PandasUDFType\n",
    "from pyspark.sql.types import DoubleType\n",
    "from pyspark.sql import Window"
   ]
  },
  {
   "cell_type": "code",
   "execution_count": 52,
   "metadata": {},
   "outputs": [],
   "source": [
    "####Importing data\n",
    "\n",
    "countrylist = spark.read.csv('/home/jovyan/work/paytmteam-de-weather-challenge-b01d5ebbf02d/countrylist.csv', \n",
    "                             header=True, sep=',', inferSchema=True)\n",
    "\n",
    "\n",
    "stationlist = spark.read.csv('/home/jovyan/work/paytmteam-de-weather-challenge-b01d5ebbf02d/stationlist.csv', \n",
    "                             header=True, sep=',', inferSchema=True)\n",
    "\n",
    "global_weather = spark.read.csv('/home/jovyan/work/paytmteam-de-weather-challenge-b01d5ebbf02d/data/2019/*.csv', \n",
    "                             header=True, sep=',', inferSchema=True)"
   ]
  },
  {
   "cell_type": "code",
   "execution_count": 18,
   "metadata": {},
   "outputs": [
    {
     "data": {
      "text/plain": [
       "['STN---',\n",
       " 'WBAN',\n",
       " 'YEARMODA',\n",
       " 'TEMP',\n",
       " 'DEWP',\n",
       " 'SLP',\n",
       " 'STP',\n",
       " 'VISIB',\n",
       " 'WDSP',\n",
       " 'MXSPD',\n",
       " 'GUST',\n",
       " 'MAX',\n",
       " 'MIN',\n",
       " 'PRCP',\n",
       " 'SNDP',\n",
       " 'FRSHTT']"
      ]
     },
     "execution_count": 18,
     "metadata": {},
     "output_type": "execute_result"
    }
   ],
   "source": [
    "global_weather.columns"
   ]
  },
  {
   "cell_type": "code",
   "execution_count": 53,
   "metadata": {},
   "outputs": [],
   "source": [
    "global_weather = global_weather.withColumnRenamed(\"STN---\", \"STN_NO\")"
   ]
  },
  {
   "cell_type": "code",
   "execution_count": 7,
   "metadata": {},
   "outputs": [
    {
     "data": {
      "text/plain": [
       "[Row(STN_NO='012240', COUNTRY_ABBR='NO'),\n",
       " Row(STN_NO='020690', COUNTRY_ABBR='SW'),\n",
       " Row(STN_NO='020870', COUNTRY_ABBR='SW'),\n",
       " Row(STN_NO='021190', COUNTRY_ABBR='SW'),\n",
       " Row(STN_NO='032690', COUNTRY_ABBR='UK')]"
      ]
     },
     "execution_count": 7,
     "metadata": {},
     "output_type": "execute_result"
    }
   ],
   "source": [
    "stationlist.head(5)"
   ]
  },
  {
   "cell_type": "code",
   "execution_count": 8,
   "metadata": {},
   "outputs": [
    {
     "data": {
      "text/plain": [
       "[Row(COUNTRY_ABBR='AA', COUNTRY_FULL='ARUBA'),\n",
       " Row(COUNTRY_ABBR='AC', COUNTRY_FULL='ANTIGUA AND BARBUDA'),\n",
       " Row(COUNTRY_ABBR='AF', COUNTRY_FULL='AFGHANISTAN'),\n",
       " Row(COUNTRY_ABBR='AG', COUNTRY_FULL='ALGERIA'),\n",
       " Row(COUNTRY_ABBR='AI', COUNTRY_FULL='ASCENSION ISLAND')]"
      ]
     },
     "execution_count": 8,
     "metadata": {},
     "output_type": "execute_result"
    }
   ],
   "source": [
    "countrylist.head(5)"
   ]
  },
  {
   "cell_type": "code",
   "execution_count": 78,
   "metadata": {},
   "outputs": [],
   "source": [
    "station_df = stationlist.join(countrylist, on = [\"COUNTRY_ABBR\"], how= \"left\")\n",
    "globalDF = global_weather.join(station_df, on = [\"STN_NO\"], how= \"left\")"
   ]
  },
  {
   "cell_type": "code",
   "execution_count": 55,
   "metadata": {},
   "outputs": [
    {
     "name": "stdout",
     "output_type": "stream",
     "text": [
      "root\n",
      " |-- STN_NO: integer (nullable = true)\n",
      " |-- WBAN: integer (nullable = true)\n",
      " |-- YEARMODA: integer (nullable = true)\n",
      " |-- TEMP: double (nullable = true)\n",
      " |-- DEWP: double (nullable = true)\n",
      " |-- SLP: double (nullable = true)\n",
      " |-- STP: double (nullable = true)\n",
      " |-- VISIB: double (nullable = true)\n",
      " |-- WDSP: double (nullable = true)\n",
      " |-- MXSPD: double (nullable = true)\n",
      " |-- GUST: double (nullable = true)\n",
      " |-- MAX: string (nullable = true)\n",
      " |-- MIN: string (nullable = true)\n",
      " |-- PRCP: string (nullable = true)\n",
      " |-- SNDP: double (nullable = true)\n",
      " |-- FRSHTT: integer (nullable = true)\n",
      " |-- COUNTRY_ABBR: string (nullable = true)\n",
      " |-- COUNTRY_FULL: string (nullable = true)\n",
      "\n"
     ]
    }
   ],
   "source": [
    "globalDF.printSchema()"
   ]
  },
  {
   "cell_type": "code",
   "execution_count": 81,
   "metadata": {},
   "outputs": [],
   "source": [
    "globalDf = globalDF.withColumn(\"MAX\", globalDF[\"MAX\"].cast(\"double\"))\n",
    "globalDf = globalDF.withColumn(\"MIN\", globalDF[\"MIN\"].cast(\"double\"))\n",
    "globalDf = globalDF.withColumn(\"PRCP\", globalDF[\"PRCP\"].cast(\"double\"))\n",
    "globalDf = globalDF.withColumn(\"FRSHTT\", globalDF[\"FRSHTT\"].cast(\"string\"))"
   ]
  },
  {
   "cell_type": "code",
   "execution_count": 57,
   "metadata": {},
   "outputs": [],
   "source": [
    "globalDF = globalDF.withColumn(\"TEMP\", when(globalDF[\"TEMP\"] == 9999.9, lit(None)).otherwise(globalDF[\"TEMP\"]))\n",
    "globalDF = globalDF.withColumn(\"DEWP\", when(globalDF[\"DEWP\"] == 9999.9, lit(None)).otherwise(globalDF[\"DEWP\"]))\n",
    "globalDF = globalDF.withColumn(\"SLP\", when(globalDF[\"SLP\"] == 9999.9, lit(None)).otherwise(globalDF[\"SLP\"]))\n",
    "globalDF = globalDF.withColumn(\"STP\", when(globalDF[\"STP\"] == 9999.9, lit(None)).otherwise(globalDF[\"STP\"]))\n",
    "globalDF = globalDF.withColumn(\"VISIB\", when(globalDF[\"VISIB\"] == 999.9, lit(None)).otherwise(globalDF[\"VISIB\"]))\n",
    "globalDF = globalDF.withColumn(\"WDSP\", when(globalDF[\"WDSP\"] == 999.9, lit(None)).otherwise(globalDF[\"WDSP\"]))\n",
    "globalDF = globalDF.withColumn(\"MXSPD\", when(globalDF[\"MXSPD\"] == 999.9, lit(None)).otherwise(globalDF[\"MXSPD\"]))\n",
    "globalDF = globalDF.withColumn(\"GUST\", when(globalDF[\"GUST\"] == 999.9, lit(None)).otherwise(globalDF[\"GUST\"]))\n",
    "globalDF = globalDF.withColumn(\"MAX\", when(globalDF[\"MAX\"] == 9999.9, lit(None)).otherwise(globalDF[\"MAX\"]))\n",
    "globalDF = globalDF.withColumn(\"MIN\", when(globalDF[\"MIN\"] == 9999.9, lit(None)).otherwise(globalDF[\"MIN\"]))\n",
    "globalDF = globalDF.withColumn(\"PRCP\", when(globalDF[\"PRCP\"] == 99.9, lit(None)).otherwise(globalDF[\"PRCP\"]))\n",
    "globalDF = globalDF.withColumn(\"SNDP\", when(globalDF[\"SNDP\"] == 999.9, lit(None)).otherwise(globalDF[\"SNDP\"]))\n"
   ]
  },
  {
   "cell_type": "code",
   "execution_count": null,
   "metadata": {},
   "outputs": [],
   "source": [
    "## Replacing the missing values with the mean of the respective column"
   ]
  },
  {
   "cell_type": "code",
   "execution_count": 58,
   "metadata": {},
   "outputs": [],
   "source": [
    "# Columns with missing values\n",
    "missing_columns = ['TEMP', 'DEWP', 'SLP', 'STP', 'VISIB', 'WDSP', 'MXSPD', 'GUST', 'MAX', 'MIN', 'PRCP', 'SNDP']\n",
    "\n",
    "# Calculate the mean value\n",
    "for c in missing_columns :\n",
    "    col_mean = globalDF.agg({c: 'mean'}).collect()[0][0]\n",
    "    # Replacing with the mean value for that column\n",
    "    globalDF = globalDF.fillna(col_mean, subset=[c])"
   ]
  },
  {
   "cell_type": "code",
   "execution_count": 59,
   "metadata": {},
   "outputs": [],
   "source": [
    "### Top 5 Countries with hottest mean average temprature over the year"
   ]
  },
  {
   "cell_type": "code",
   "execution_count": 69,
   "metadata": {},
   "outputs": [
    {
     "name": "stdout",
     "output_type": "stream",
     "text": [
      "+------------+-----------------+\n",
      "|COUNTRY_FULL|          AVERAGE|\n",
      "+------------+-----------------+\n",
      "|    DJIBOUTI|90.06114457831325|\n",
      "|        CHAD|87.36099706744865|\n",
      "|       NIGER|85.06022291247945|\n",
      "|       SUDAN|84.45494186046511|\n",
      "| EL SALVADOR|84.44045944678854|\n",
      "+------------+-----------------+\n",
      "only showing top 5 rows\n",
      "\n"
     ]
    }
   ],
   "source": [
    "globalDF.groupBy(\"COUNTRY_FULL\").agg(avg('TEMP').alias(\"AVERAGE\")).sort(desc(\"AVERAGE\")).show(5)"
   ]
  },
  {
   "cell_type": "code",
   "execution_count": 70,
   "metadata": {},
   "outputs": [
    {
     "name": "stdout",
     "output_type": "stream",
     "text": [
      "+------------+-------------------+\n",
      "|COUNTRY_FULL|            AVERAGE|\n",
      "+------------+-------------------+\n",
      "|  ANTARCTICA|-2.8328838863485393|\n",
      "|    SVALBARD|           23.64208|\n",
      "|   GREENLAND| 25.525825043423335|\n",
      "|      RUSSIA| 31.378486130244845|\n",
      "|    MONGOLIA|  34.50474591250553|\n",
      "+------------+-------------------+\n",
      "only showing top 5 rows\n",
      "\n"
     ]
    }
   ],
   "source": [
    "### Top 5 Countries with coldest mean average temprature over the year\n",
    "\n",
    "globalDF.groupBy(\"COUNTRY_FULL\").agg(avg('TEMP').alias(\"AVERAGE\")).sort(\"AVERAGE\").show(5)"
   ]
  },
  {
   "cell_type": "code",
   "execution_count": null,
   "metadata": {},
   "outputs": [],
   "source": [
    "### Top 5 Countries with highest average mean wind speed over the year"
   ]
  },
  {
   "cell_type": "code",
   "execution_count": 73,
   "metadata": {},
   "outputs": [
    {
     "name": "stdout",
     "output_type": "stream",
     "text": [
      "+-----------------------------------+------------------+\n",
      "|COUNTRY_FULL                       |AVERAGE           |\n",
      "+-----------------------------------+------------------+\n",
      "|FALKLAND ISLANDS (ISLAS MALVINAS)  |17.854922323310944|\n",
      "|ARUBA                              |15.975683060109283|\n",
      "|FAROE ISLANDS                      |15.269151674322673|\n",
      "|BARBADOS                           |14.097540983606562|\n",
      "|FRENCH SOUTHERN AND ANTARCTIC LANDS|14.09722890172177 |\n",
      "+-----------------------------------+------------------+\n",
      "only showing top 5 rows\n",
      "\n"
     ]
    }
   ],
   "source": [
    "globalDF.groupBy(\"COUNTRY_FULL\").agg(avg('WDSP').alias(\"AVERAGE\")).sort(desc(\"AVERAGE\")).show(5, False)"
   ]
  },
  {
   "cell_type": "code",
   "execution_count": null,
   "metadata": {},
   "outputs": [],
   "source": [
    "### Top Country with the moset consecutive days of tornados/funnel cloud over the year"
   ]
  },
  {
   "cell_type": "code",
   "execution_count": 107,
   "metadata": {},
   "outputs": [],
   "source": [
    "### Padding leading zero to the column \n",
    "globalDF = globalDF.withColumn(\"FRSHTT\", lpad(globalDF[\"FRSHTT\"], 6, '0'))"
   ]
  },
  {
   "cell_type": "code",
   "execution_count": 136,
   "metadata": {},
   "outputs": [],
   "source": [
    "globalDF = globalDF.withColumn('FRSHTT_TORNADO', globalDF[\"FRSHTT\"].substr(6, 1).cast(\"int\"))"
   ]
  },
  {
   "cell_type": "code",
   "execution_count": 143,
   "metadata": {},
   "outputs": [],
   "source": [
    "globalDF = globalDF.withColumn('cumsum', sum('FRSHTT_TORNADO').over(Window.partitionBy('COUNTRY_FULL').orderBy('YEARMODA')))"
   ]
  },
  {
   "cell_type": "code",
   "execution_count": 152,
   "metadata": {},
   "outputs": [
    {
     "data": {
      "text/plain": [
       "Row(COUNTRY_FULL='UNITED STATES', cumsum=34)"
      ]
     },
     "execution_count": 152,
     "metadata": {},
     "output_type": "execute_result"
    }
   ],
   "source": [
    "globalDF.select([\"COUNTRY_FULL\", \"cumsum\"]).distinct().sort(desc(\"cumsum\")).first()"
   ]
  },
  {
   "cell_type": "code",
   "execution_count": null,
   "metadata": {},
   "outputs": [],
   "source": []
  }
 ],
 "metadata": {
  "kernelspec": {
   "display_name": "Python 3",
   "language": "python",
   "name": "python3"
  },
  "language_info": {
   "codemirror_mode": {
    "name": "ipython",
    "version": 3
   },
   "file_extension": ".py",
   "mimetype": "text/x-python",
   "name": "python",
   "nbconvert_exporter": "python",
   "pygments_lexer": "ipython3",
   "version": "3.7.6"
  }
 },
 "nbformat": 4,
 "nbformat_minor": 4
}
